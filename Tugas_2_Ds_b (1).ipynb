{
  "cells": [
    {
      "cell_type": "markdown",
      "source": [
        "\n",
        "# **Data Structure In Python**\n"
      ],
      "metadata": {
        "id": "Bp3GXtSifwzP"
      }
    },
    {
      "cell_type": "markdown",
      "source": [
        "## **List**"
      ],
      "metadata": {
        "id": "9OiP3dlEg81b"
      }
    },
    {
      "cell_type": "markdown",
      "source": [
        "List is an orderly or organized data structure\n",
        "and mutable, lists allow duplicate or duplicate data.\n",
        "In python lists use square brackets \"[]\"."
      ],
      "metadata": {
        "id": "UkoQJjnE9TDE"
      }
    },
    {
      "cell_type": "markdown",
      "source": [
        "### Accessing data on the List\n",
        "In addition, to access certain data, the syntax can be changed\n",
        "by replacing the index number, here is an example\n",
        "access multiple data at once using index on list:\n"
      ],
      "metadata": {
        "id": "lfbsajE19mT1"
      }
    },
    {
      "cell_type": "code",
      "source": [
        "bu = [7,8.6,\"mentor\",788,87,\"student\",1100,3.14,8880,\"banana\"]"
      ],
      "metadata": {
        "id": "cG55gI_yg23Y"
      },
      "execution_count": 74,
      "outputs": []
    },
    {
      "cell_type": "code",
      "source": [
        "print(bu)"
      ],
      "metadata": {
        "colab": {
          "base_uri": "https://localhost:8080/"
        },
        "id": "Z-xwCxrVg3VE",
        "outputId": "5016edaf-d4b9-43c9-d17d-c4554ff4dea1"
      },
      "execution_count": 75,
      "outputs": [
        {
          "output_type": "stream",
          "name": "stdout",
          "text": [
            "[7, 8.6, 'mentor', 788, 87, 'student', 1100, 3.14, 8880, 'banana']\n"
          ]
        }
      ]
    },
    {
      "cell_type": "code",
      "source": [
        "print(len(bu))"
      ],
      "metadata": {
        "colab": {
          "base_uri": "https://localhost:8080/"
        },
        "id": "ua9GQrmmg3fD",
        "outputId": "16405bbd-050d-4678-c169-3b74eedfedec"
      },
      "execution_count": 76,
      "outputs": [
        {
          "output_type": "stream",
          "name": "stdout",
          "text": [
            "10\n"
          ]
        }
      ]
    },
    {
      "cell_type": "code",
      "source": [
        "print(bu[1])"
      ],
      "metadata": {
        "colab": {
          "base_uri": "https://localhost:8080/"
        },
        "id": "enbXUNo_g3jl",
        "outputId": "fab403c4-f672-495e-c26f-e4668b62dafb"
      },
      "execution_count": 77,
      "outputs": [
        {
          "output_type": "stream",
          "name": "stdout",
          "text": [
            "8.6\n"
          ]
        }
      ]
    },
    {
      "cell_type": "code",
      "source": [
        "print(bu[-1])"
      ],
      "metadata": {
        "colab": {
          "base_uri": "https://localhost:8080/"
        },
        "id": "sDe3uuS7g3oO",
        "outputId": "1c12083d-0e7c-45ea-f989-dd8cf246b55a"
      },
      "execution_count": 78,
      "outputs": [
        {
          "output_type": "stream",
          "name": "stdout",
          "text": [
            "banana\n"
          ]
        }
      ]
    },
    {
      "cell_type": "code",
      "source": [
        "print(bu[2:5])"
      ],
      "metadata": {
        "colab": {
          "base_uri": "https://localhost:8080/"
        },
        "id": "G8od0KIdg32m",
        "outputId": "9c085e25-83b3-4f66-93fb-06025be70901"
      },
      "execution_count": 79,
      "outputs": [
        {
          "output_type": "stream",
          "name": "stdout",
          "text": [
            "['mentor', 788, 87]\n"
          ]
        }
      ]
    },
    {
      "cell_type": "code",
      "source": [
        "print(bu[:4])"
      ],
      "metadata": {
        "colab": {
          "base_uri": "https://localhost:8080/"
        },
        "id": "dT4vPne5g4Qy",
        "outputId": "cbb4d07c-2c9b-4162-8825-1b4eb412181a"
      },
      "execution_count": 80,
      "outputs": [
        {
          "output_type": "stream",
          "name": "stdout",
          "text": [
            "[7, 8.6, 'mentor', 788]\n"
          ]
        }
      ]
    },
    {
      "cell_type": "code",
      "source": [
        "print(bu[2:])"
      ],
      "metadata": {
        "colab": {
          "base_uri": "https://localhost:8080/"
        },
        "id": "6M3Gw2Idhs8l",
        "outputId": "32311060-890d-4f9a-a277-b5b45e3c3c9c"
      },
      "execution_count": 81,
      "outputs": [
        {
          "output_type": "stream",
          "name": "stdout",
          "text": [
            "['mentor', 788, 87, 'student', 1100, 3.14, 8880, 'banana']\n"
          ]
        }
      ]
    },
    {
      "cell_type": "code",
      "source": [
        "bu[2] = \"blackcurrant\""
      ],
      "metadata": {
        "id": "h0OTkrNwhuef"
      },
      "execution_count": 82,
      "outputs": []
    },
    {
      "cell_type": "code",
      "source": [
        "print(bu)"
      ],
      "metadata": {
        "colab": {
          "base_uri": "https://localhost:8080/"
        },
        "id": "b7s7IZbwhupv",
        "outputId": "48b8b959-b0a4-4870-a5cf-c5ebbda90571"
      },
      "execution_count": 83,
      "outputs": [
        {
          "output_type": "stream",
          "name": "stdout",
          "text": [
            "[7, 8.6, 'blackcurrant', 788, 87, 'student', 1100, 3.14, 8880, 'banana']\n"
          ]
        }
      ]
    },
    {
      "cell_type": "code",
      "source": [
        "bu[1:3] = [\"watermelon\"]"
      ],
      "metadata": {
        "id": "Autgerwehxcu"
      },
      "execution_count": 84,
      "outputs": []
    },
    {
      "cell_type": "markdown",
      "source": [
        "From the source code above it will output a new list with\n",
        "the following conditions:\n",
        "\n",
        "\n",
        "\n",
        "*   Will access or select items from position 2 to 5\n",
        "\n",
        "*   Jika tidak diberi nilai awal maka range akan dimulai \n",
        "dari data paling pertama. Misal “print(bu[:10])” \n",
        "akan membuat output mulai dari data pertama \n",
        "sampai ke-10\n",
        "*   If not given a final value then the range will be\n",
        "starting with the very first data, for example\n",
        "“print(bu[8:])” will make output starting from\n",
        "2nd data to the last data.\n",
        "\n",
        "\n",
        "\n",
        "\n"
      ],
      "metadata": {
        "id": "aA7ZXiFd-Eod"
      }
    },
    {
      "cell_type": "code",
      "source": [
        "bu.insert(2, \"watermelon\")"
      ],
      "metadata": {
        "id": "8DrnMkT1hxh9"
      },
      "execution_count": 85,
      "outputs": []
    },
    {
      "cell_type": "code",
      "source": [
        "du = [8, \"pineapple\", 8.98]"
      ],
      "metadata": {
        "id": "9--eXSOChxnt"
      },
      "execution_count": 86,
      "outputs": []
    },
    {
      "cell_type": "code",
      "source": [
        "print(bu)"
      ],
      "metadata": {
        "colab": {
          "base_uri": "https://localhost:8080/"
        },
        "id": "6eqHCLjBiFiq",
        "outputId": "f9736e92-7df5-43fc-bd0e-9787e57fd747"
      },
      "execution_count": 87,
      "outputs": [
        {
          "output_type": "stream",
          "name": "stdout",
          "text": [
            "[7, 'watermelon', 'watermelon', 788, 87, 'student', 1100, 3.14, 8880, 'banana']\n"
          ]
        }
      ]
    },
    {
      "cell_type": "code",
      "source": [
        "cu=du+bu\n",
        "print(cu)"
      ],
      "metadata": {
        "colab": {
          "base_uri": "https://localhost:8080/"
        },
        "id": "KiIFaDhBh4bB",
        "outputId": "128d0457-4604-4565-e521-950c9ca8c883"
      },
      "execution_count": 88,
      "outputs": [
        {
          "output_type": "stream",
          "name": "stdout",
          "text": [
            "[8, 'pineapple', 8.98, 7, 'watermelon', 'watermelon', 788, 87, 'student', 1100, 3.14, 8880, 'banana']\n"
          ]
        }
      ]
    },
    {
      "cell_type": "code",
      "source": [
        "bu.extend(du)"
      ],
      "metadata": {
        "id": "nXnGahTViC4e"
      },
      "execution_count": 89,
      "outputs": []
    },
    {
      "cell_type": "code",
      "source": [
        "print(bu)"
      ],
      "metadata": {
        "colab": {
          "base_uri": "https://localhost:8080/"
        },
        "id": "ieGtaVW2iH1o",
        "outputId": "04e967c5-7e3a-403c-f239-9753afeb4046"
      },
      "execution_count": 90,
      "outputs": [
        {
          "output_type": "stream",
          "name": "stdout",
          "text": [
            "[7, 'watermelon', 'watermelon', 788, 87, 'student', 1100, 3.14, 8880, 'banana', 8, 'pineapple', 8.98]\n"
          ]
        }
      ]
    },
    {
      "cell_type": "code",
      "source": [
        "bu.remove(\"student\")"
      ],
      "metadata": {
        "id": "82Q9zrEuiJF7"
      },
      "execution_count": 91,
      "outputs": []
    },
    {
      "cell_type": "code",
      "source": [
        "print(bu)"
      ],
      "metadata": {
        "colab": {
          "base_uri": "https://localhost:8080/"
        },
        "id": "eyyf0GFaiKe9",
        "outputId": "e6f7b1fa-6cd1-48d0-c4a0-1b12841f6121"
      },
      "execution_count": 92,
      "outputs": [
        {
          "output_type": "stream",
          "name": "stdout",
          "text": [
            "[7, 'watermelon', 'watermelon', 788, 87, 1100, 3.14, 8880, 'banana', 8, 'pineapple', 8.98]\n"
          ]
        }
      ]
    },
    {
      "cell_type": "code",
      "source": [
        "bu.pop(1)"
      ],
      "metadata": {
        "colab": {
          "base_uri": "https://localhost:8080/",
          "height": 36
        },
        "id": "xyf2tCXEiL5A",
        "outputId": "3d326a03-3375-4534-92ab-f6065b11ef81"
      },
      "execution_count": 93,
      "outputs": [
        {
          "output_type": "execute_result",
          "data": {
            "text/plain": [
              "'watermelon'"
            ],
            "application/vnd.google.colaboratory.intrinsic+json": {
              "type": "string"
            }
          },
          "metadata": {},
          "execution_count": 93
        }
      ]
    },
    {
      "cell_type": "code",
      "source": [
        "print(bu)"
      ],
      "metadata": {
        "colab": {
          "base_uri": "https://localhost:8080/"
        },
        "id": "htE8T6dziMY9",
        "outputId": "dcc9b875-6bfe-4e69-db32-cd009711ccc3"
      },
      "execution_count": 94,
      "outputs": [
        {
          "output_type": "stream",
          "name": "stdout",
          "text": [
            "[7, 'watermelon', 788, 87, 1100, 3.14, 8880, 'banana', 8, 'pineapple', 8.98]\n"
          ]
        }
      ]
    },
    {
      "cell_type": "code",
      "source": [
        "bu.pop()"
      ],
      "metadata": {
        "colab": {
          "base_uri": "https://localhost:8080/"
        },
        "id": "1UGpW-qLiP9Q",
        "outputId": "60d6fd5a-063c-4e36-f194-7d3f176b8e9c"
      },
      "execution_count": 95,
      "outputs": [
        {
          "output_type": "execute_result",
          "data": {
            "text/plain": [
              "8.98"
            ]
          },
          "metadata": {},
          "execution_count": 95
        }
      ]
    },
    {
      "cell_type": "code",
      "source": [
        "del bu[4]"
      ],
      "metadata": {
        "id": "YoY0XsMuiQ-q"
      },
      "execution_count": 96,
      "outputs": []
    },
    {
      "cell_type": "code",
      "source": [
        "print(bu)"
      ],
      "metadata": {
        "colab": {
          "base_uri": "https://localhost:8080/"
        },
        "id": "7rVAcYOWiTIJ",
        "outputId": "ebdcea20-35b9-4dc9-8ab5-0d74550a40f1"
      },
      "execution_count": 97,
      "outputs": [
        {
          "output_type": "stream",
          "name": "stdout",
          "text": [
            "[7, 'watermelon', 788, 87, 3.14, 8880, 'banana', 8, 'pineapple']\n"
          ]
        }
      ]
    },
    {
      "cell_type": "code",
      "source": [
        "bu.reverse()"
      ],
      "metadata": {
        "id": "8Tm1U1a6iUfr"
      },
      "execution_count": 98,
      "outputs": []
    },
    {
      "cell_type": "code",
      "source": [
        "list = [100, 50, 65, 82, 23]"
      ],
      "metadata": {
        "id": "sQ3fUXV6iVjA"
      },
      "execution_count": 99,
      "outputs": []
    },
    {
      "cell_type": "code",
      "source": [
        "list.sort()"
      ],
      "metadata": {
        "id": "U2J2OjcRiX8Q"
      },
      "execution_count": 100,
      "outputs": []
    },
    {
      "cell_type": "code",
      "source": [
        "print(list)"
      ],
      "metadata": {
        "colab": {
          "base_uri": "https://localhost:8080/"
        },
        "id": "OENnkD2jiZHc",
        "outputId": "17c5ee2e-00b7-4fce-9f3d-149f26c66dcf"
      },
      "execution_count": 101,
      "outputs": [
        {
          "output_type": "stream",
          "name": "stdout",
          "text": [
            "[23, 50, 65, 82, 100]\n"
          ]
        }
      ]
    },
    {
      "cell_type": "code",
      "source": [
        "print(type(list))"
      ],
      "metadata": {
        "colab": {
          "base_uri": "https://localhost:8080/"
        },
        "id": "Hxsz2Xy3iaay",
        "outputId": "d746920b-2763-4fe2-87be-a63f1b18b850"
      },
      "execution_count": 102,
      "outputs": [
        {
          "output_type": "stream",
          "name": "stdout",
          "text": [
            "<class 'list'>\n"
          ]
        }
      ]
    },
    {
      "cell_type": "markdown",
      "source": [
        "Adding data to the list\n",
        "To add data to the list, you can:\n",
        "using the .append() function,Removing data from the list\n",
        "To delete data from the list, you can use\n",
        "function .remove(),Merge two lists into one,Sort the data in the list and more in the above function"
      ],
      "metadata": {
        "id": "i5tBekZQ_u4a"
      }
    },
    {
      "cell_type": "markdown",
      "source": [
        "## **Tuple**"
      ],
      "metadata": {
        "id": "kDGkIXtii6V0"
      }
    },
    {
      "cell_type": "markdown",
      "source": [
        "A tuple is a data structure similar to a list.\n",
        "Tuples can contain various data types, and their elements have indexes. Elements of a tuple\n",
        "separated by a comma. In Python, tuples are written\n",
        "Use brackets \"()\". There are two general types of tuples that can be formed.\n",
        "That is, a tuple with one data type and a tuple with a data type\n",
        "mixture. To better understand how to make both\n",
        "the tuple form, consider the following source code; tuple\n",
        "with one data type:"
      ],
      "metadata": {
        "id": "NhfhYyvIAybU"
      }
    },
    {
      "cell_type": "code",
      "source": [
        "n = (5,3,\"table\",5.5,8,10,20,\"chair\",32,41)"
      ],
      "metadata": {
        "id": "DpYyAow_rlp7"
      },
      "execution_count": 103,
      "outputs": []
    },
    {
      "cell_type": "code",
      "source": [
        "evennums = (2,4,6,8,10)\n",
        "print(evennums)\n",
        "otuple = sorted(evennums)\n",
        "print(otuple)"
      ],
      "metadata": {
        "colab": {
          "base_uri": "https://localhost:8080/"
        },
        "id": "0A49Oled2rqs",
        "outputId": "bbc3c99a-d835-4180-aac7-615b1cf1cfee"
      },
      "execution_count": 104,
      "outputs": [
        {
          "output_type": "stream",
          "name": "stdout",
          "text": [
            "(2, 4, 6, 8, 10)\n",
            "[2, 4, 6, 8, 10]\n"
          ]
        }
      ]
    },
    {
      "cell_type": "code",
      "source": [
        "tupleofword =(\"python\",\"is\",\"great\")"
      ],
      "metadata": {
        "id": "g8gb9lLA2yrD"
      },
      "execution_count": 105,
      "outputs": []
    },
    {
      "cell_type": "code",
      "source": [
        "print(tupleofword)"
      ],
      "metadata": {
        "colab": {
          "base_uri": "https://localhost:8080/"
        },
        "id": "Xb0M6uHJ3HTM",
        "outputId": "1ef80b32-2d09-46bf-f30a-7615694041fb"
      },
      "execution_count": 106,
      "outputs": [
        {
          "output_type": "stream",
          "name": "stdout",
          "text": [
            "('python', 'is', 'great')\n"
          ]
        }
      ]
    },
    {
      "cell_type": "code",
      "source": [
        "del tupleofword \n",
        "print(\"Clear\")"
      ],
      "metadata": {
        "colab": {
          "base_uri": "https://localhost:8080/"
        },
        "id": "Tg5tvRa73KTY",
        "outputId": "ce1c7c1c-43b3-4a44-99cd-b56a0a02c03a"
      },
      "execution_count": 107,
      "outputs": [
        {
          "output_type": "stream",
          "name": "stdout",
          "text": [
            "Clear\n"
          ]
        }
      ]
    },
    {
      "cell_type": "markdown",
      "source": [
        "Tuples are immutable. What it means is that we can't change\n",
        "elements of the tuple after initialization. To access each element\n",
        "in a tuple, we use index. There is 1 way to access\n",
        "elements in a tuple, including the following:"
      ],
      "metadata": {
        "id": "fd5tc0LDBGIA"
      }
    },
    {
      "cell_type": "code",
      "source": [
        "print(n[1])"
      ],
      "metadata": {
        "colab": {
          "base_uri": "https://localhost:8080/"
        },
        "id": "Bfo2pFyrroMc",
        "outputId": "4799ecd2-d17e-4650-8f6d-98a19506a4e6"
      },
      "execution_count": 108,
      "outputs": [
        {
          "output_type": "stream",
          "name": "stdout",
          "text": [
            "3\n"
          ]
        }
      ]
    },
    {
      "cell_type": "code",
      "source": [
        "print(n[0:2])"
      ],
      "metadata": {
        "colab": {
          "base_uri": "https://localhost:8080/"
        },
        "id": "FI1kaOUErq51",
        "outputId": "df7216a7-76b9-4953-d09f-2f6825e3f3b2"
      },
      "execution_count": 109,
      "outputs": [
        {
          "output_type": "stream",
          "name": "stdout",
          "text": [
            "(5, 3)\n"
          ]
        }
      ]
    },
    {
      "cell_type": "code",
      "source": [
        "print(type(n))"
      ],
      "metadata": {
        "colab": {
          "base_uri": "https://localhost:8080/"
        },
        "id": "oXScEuIprt3M",
        "outputId": "22d3d298-54b0-403e-9ab8-02fd8f2ab2ae"
      },
      "execution_count": 110,
      "outputs": [
        {
          "output_type": "stream",
          "name": "stdout",
          "text": [
            "<class 'tuple'>\n"
          ]
        }
      ]
    },
    {
      "cell_type": "markdown",
      "source": [
        "when using the command to replace a variable in the use of tuples, the process of the system will not run, this is because the tuple itself has a list type that cannot be changed or replaced. as follows:"
      ],
      "metadata": {
        "id": "K6KvbWuSAjPk"
      }
    },
    {
      "cell_type": "markdown",
      "source": [
        "## **SET**"
      ],
      "metadata": {
        "id": "iYapB9OosB3P"
      }
    },
    {
      "cell_type": "markdown",
      "source": [
        "A set is a data structure that is disorganized or organized\n",
        "and has no index thus making it inaccessible\n",
        "by using index, on set not allow member\n",
        "duplicate or duplicate. In python set is usually used for\n",
        "perform mathematical set operations such as joins, slices,\n",
        "difference, etc. Sets are written using curly brackets \"{}\".\n",
        "In addition, the data in a set cannot be changed after\n",
        "set is created, but can add data or delete data in\n",
        "a set."
      ],
      "metadata": {
        "id": "1AMcGfWzBZaB"
      }
    },
    {
      "cell_type": "code",
      "source": [
        "i={2,2,\"a\",\"y\",\"a\",\"m\",10,10,9,2}\n",
        "print(i)"
      ],
      "metadata": {
        "colab": {
          "base_uri": "https://localhost:8080/"
        },
        "id": "5VmC-Lw8sHCd",
        "outputId": "5083da0d-f32c-4d07-c52a-43ed0ab9ff87"
      },
      "execution_count": 111,
      "outputs": [
        {
          "output_type": "stream",
          "name": "stdout",
          "text": [
            "{2, 'y', 9, 10, 'a', 'm'}\n"
          ]
        }
      ]
    },
    {
      "cell_type": "code",
      "source": [
        "print(type(i))"
      ],
      "metadata": {
        "colab": {
          "base_uri": "https://localhost:8080/"
        },
        "id": "gBD0gS-nsJMq",
        "outputId": "b1c82097-a620-4ee3-b7ef-a1c8d4356989"
      },
      "execution_count": 112,
      "outputs": [
        {
          "output_type": "stream",
          "name": "stdout",
          "text": [
            "<class 'set'>\n"
          ]
        }
      ]
    },
    {
      "cell_type": "code",
      "source": [
        "i.add(\"u\")\n",
        "print(i)"
      ],
      "metadata": {
        "colab": {
          "base_uri": "https://localhost:8080/"
        },
        "id": "34rbfTxhsMqq",
        "outputId": "52b32f29-d08c-406d-bb4b-3a6d0492f9aa"
      },
      "execution_count": 113,
      "outputs": [
        {
          "output_type": "stream",
          "name": "stdout",
          "text": [
            "{2, 'y', 9, 10, 'a', 'm', 'u'}\n"
          ]
        }
      ]
    },
    {
      "cell_type": "code",
      "source": [
        "i.update([\"t\",3])\n",
        "print(i)"
      ],
      "metadata": {
        "colab": {
          "base_uri": "https://localhost:8080/"
        },
        "id": "dPbUrk4XsN5i",
        "outputId": "a1926f34-f163-4766-c19a-ac5b90fdc331"
      },
      "execution_count": 114,
      "outputs": [
        {
          "output_type": "stream",
          "name": "stdout",
          "text": [
            "{'t', 2, 'y', 3, 9, 10, 'a', 'm', 'u'}\n"
          ]
        }
      ]
    },
    {
      "cell_type": "code",
      "source": [
        "i.remove(\"a\")\n",
        "print(i)"
      ],
      "metadata": {
        "colab": {
          "base_uri": "https://localhost:8080/"
        },
        "id": "A0KgaUJWsPJX",
        "outputId": "024be1d8-7224-4516-a3dc-1f56ed7fbf1a"
      },
      "execution_count": 115,
      "outputs": [
        {
          "output_type": "stream",
          "name": "stdout",
          "text": [
            "{'t', 2, 'y', 3, 9, 10, 'm', 'u'}\n"
          ]
        }
      ]
    },
    {
      "cell_type": "code",
      "source": [
        "i.pop()\n",
        "print(i)"
      ],
      "metadata": {
        "colab": {
          "base_uri": "https://localhost:8080/"
        },
        "id": "rIhq6puasQb9",
        "outputId": "50e1955b-0b00-4e9a-a8f1-93177b34db51"
      },
      "execution_count": 116,
      "outputs": [
        {
          "output_type": "stream",
          "name": "stdout",
          "text": [
            "{2, 'y', 3, 9, 10, 'm', 'u'}\n"
          ]
        }
      ]
    },
    {
      "cell_type": "code",
      "source": [
        "i.clear()\n",
        "print(i)"
      ],
      "metadata": {
        "colab": {
          "base_uri": "https://localhost:8080/"
        },
        "id": "R2YqoeHOsSGd",
        "outputId": "40adfa53-8c52-4814-9572-916ba7789dab"
      },
      "execution_count": 117,
      "outputs": [
        {
          "output_type": "stream",
          "name": "stdout",
          "text": [
            "set()\n"
          ]
        }
      ]
    },
    {
      "cell_type": "markdown",
      "source": [
        "## **Dictionary**"
      ],
      "metadata": {
        "id": "8-HvSFcaskZE"
      }
    },
    {
      "cell_type": "markdown",
      "source": [
        "Dictionary is a more complex data structure than\n",
        "everything else (list, tuple, set). What distinguishes a dictionary from\n",
        "Another data structure is that the elements in the dictionary are pairs\n",
        "keys and values. As for other data structures, it is only the value of\n",
        "single.dictionary if interpreted in Indonesian means\n",
        "dictionary. The concept in programming is also the same as when we\n",
        "using a dictionary in the real world, we will look up words with\n",
        "a keyword that is the alphabet located on a dictionary sheet. On\n",
        "In Python we find the value of a dictionary element with\n",
        "based on the key that is connected to the value we are looking for.\n",
        "Keys in a dictionary can be of any data type. Can\n",
        "use integers or strings. Take a look at the manufacturing example\n",
        "a dictionary below:"
      ],
      "metadata": {
        "id": "TXsDmIu9Bkx5"
      }
    },
    {
      "cell_type": "code",
      "source": [
        "biodata= {\"name\":\"alwi\",\"age\":21,\"address\":\"Jl. Pemuda, Mojoroto, Kediri\",\n",
        "\"tall\":165.5,\"weight\":67,\"education\":\"Telkom univesity\",\n",
        "    \"major\":\"computer engginering\",\"NiM\":11031930,\"hobby\":[\"eat\",\"traveling\"],\"ambition\":[\"becomes  a successful person \",\"becomes a useful person\"]}"
      ],
      "metadata": {
        "id": "CtN6JlIwsqdi"
      },
      "execution_count": 118,
      "outputs": []
    },
    {
      "cell_type": "code",
      "source": [
        "biodata[\"name\"]"
      ],
      "metadata": {
        "colab": {
          "base_uri": "https://localhost:8080/",
          "height": 36
        },
        "id": "8etTjp035G6d",
        "outputId": "916b53c5-85d7-4772-a5e8-937aad97b852"
      },
      "execution_count": 119,
      "outputs": [
        {
          "output_type": "execute_result",
          "data": {
            "text/plain": [
              "'alwi'"
            ],
            "application/vnd.google.colaboratory.intrinsic+json": {
              "type": "string"
            }
          },
          "metadata": {},
          "execution_count": 119
        }
      ]
    },
    {
      "cell_type": "code",
      "source": [
        "biodata[\"age\"]\n"
      ],
      "metadata": {
        "colab": {
          "base_uri": "https://localhost:8080/"
        },
        "id": "jDD3M3gS5Ike",
        "outputId": "d31b38ce-bd84-436a-e575-5814b7d5e4b1"
      },
      "execution_count": 120,
      "outputs": [
        {
          "output_type": "execute_result",
          "data": {
            "text/plain": [
              "21"
            ]
          },
          "metadata": {},
          "execution_count": 120
        }
      ]
    },
    {
      "cell_type": "code",
      "source": [
        "biodata[\"address\"]"
      ],
      "metadata": {
        "colab": {
          "base_uri": "https://localhost:8080/",
          "height": 36
        },
        "id": "GXA1KeM65KNc",
        "outputId": "02312d05-f9a7-4785-891a-f857ae06e129"
      },
      "execution_count": 121,
      "outputs": [
        {
          "output_type": "execute_result",
          "data": {
            "text/plain": [
              "'Jl. Pemuda, Mojoroto, Kediri'"
            ],
            "application/vnd.google.colaboratory.intrinsic+json": {
              "type": "string"
            }
          },
          "metadata": {},
          "execution_count": 121
        }
      ]
    },
    {
      "cell_type": "code",
      "source": [
        "biodata[\"tall\"]"
      ],
      "metadata": {
        "colab": {
          "base_uri": "https://localhost:8080/"
        },
        "id": "BRe0OohF5KZW",
        "outputId": "2e6b7304-bff7-42f4-aa89-0e45c24ba712"
      },
      "execution_count": 122,
      "outputs": [
        {
          "output_type": "execute_result",
          "data": {
            "text/plain": [
              "165.5"
            ]
          },
          "metadata": {},
          "execution_count": 122
        }
      ]
    },
    {
      "cell_type": "code",
      "source": [
        "biodata[\"weight\"]"
      ],
      "metadata": {
        "colab": {
          "base_uri": "https://localhost:8080/"
        },
        "id": "rcDNY6on5KkB",
        "outputId": "d68b101d-34a2-4916-fb14-f3a3a9c7d6bc"
      },
      "execution_count": 123,
      "outputs": [
        {
          "output_type": "execute_result",
          "data": {
            "text/plain": [
              "67"
            ]
          },
          "metadata": {},
          "execution_count": 123
        }
      ]
    },
    {
      "cell_type": "code",
      "source": [
        "biodata[\"education\"]"
      ],
      "metadata": {
        "colab": {
          "base_uri": "https://localhost:8080/",
          "height": 36
        },
        "id": "0wbdPF_h5Kty",
        "outputId": "d6c5af85-f4df-4364-aa2d-03f54376ba92"
      },
      "execution_count": 124,
      "outputs": [
        {
          "output_type": "execute_result",
          "data": {
            "text/plain": [
              "'Telkom univesity'"
            ],
            "application/vnd.google.colaboratory.intrinsic+json": {
              "type": "string"
            }
          },
          "metadata": {},
          "execution_count": 124
        }
      ]
    },
    {
      "cell_type": "code",
      "source": [
        "biodata[\"major\"]"
      ],
      "metadata": {
        "colab": {
          "base_uri": "https://localhost:8080/",
          "height": 36
        },
        "id": "t7dEkXmS5K3T",
        "outputId": "cd098e41-ee76-417f-f030-ba8831359641"
      },
      "execution_count": 125,
      "outputs": [
        {
          "output_type": "execute_result",
          "data": {
            "text/plain": [
              "'computer engginering'"
            ],
            "application/vnd.google.colaboratory.intrinsic+json": {
              "type": "string"
            }
          },
          "metadata": {},
          "execution_count": 125
        }
      ]
    },
    {
      "cell_type": "code",
      "source": [
        "biodata[\"NiM\"]"
      ],
      "metadata": {
        "colab": {
          "base_uri": "https://localhost:8080/"
        },
        "id": "KcjqmRpB5LAI",
        "outputId": "a17de04d-debc-4579-dae3-cf1bcbcd841d"
      },
      "execution_count": 127,
      "outputs": [
        {
          "output_type": "execute_result",
          "data": {
            "text/plain": [
              "11031930"
            ]
          },
          "metadata": {},
          "execution_count": 127
        }
      ]
    },
    {
      "cell_type": "code",
      "source": [
        "biodata[\"hobby\"]"
      ],
      "metadata": {
        "colab": {
          "base_uri": "https://localhost:8080/"
        },
        "id": "Kkl7W00T5LJ6",
        "outputId": "0d0c08a2-a37a-444b-8be4-f87f5a903fd4"
      },
      "execution_count": 128,
      "outputs": [
        {
          "output_type": "execute_result",
          "data": {
            "text/plain": [
              "['eat', 'traveling']"
            ]
          },
          "metadata": {},
          "execution_count": 128
        }
      ]
    },
    {
      "cell_type": "code",
      "source": [
        "biodata[\"ambition\"]"
      ],
      "metadata": {
        "colab": {
          "base_uri": "https://localhost:8080/"
        },
        "id": "YRTuDgLY5LT7",
        "outputId": "5fdb41c8-6e3b-4c68-cb71-656c96511ede"
      },
      "execution_count": 129,
      "outputs": [
        {
          "output_type": "execute_result",
          "data": {
            "text/plain": [
              "['becomes  a successful person ', 'becomes a useful person']"
            ]
          },
          "metadata": {},
          "execution_count": 129
        }
      ]
    },
    {
      "cell_type": "code",
      "source": [
        "biodata.update({'age': 20})\n",
        "print(biodata)"
      ],
      "metadata": {
        "colab": {
          "base_uri": "https://localhost:8080/"
        },
        "id": "YPz3O7El5tTy",
        "outputId": "8f8abe6a-72a2-40f8-bc60-125238a250b7"
      },
      "execution_count": 130,
      "outputs": [
        {
          "output_type": "stream",
          "name": "stdout",
          "text": [
            "{'name': 'alwi', 'age': 20, 'address': 'Jl. Pemuda, Mojoroto, Kediri', 'tall': 165.5, 'weight': 67, 'education': 'Telkom univesity', 'major': 'computer engginering', 'NiM': 11031930, 'hobby': ['eat', 'traveling'], 'ambition': ['becomes  a successful person ', 'becomes a useful person']}\n"
          ]
        }
      ]
    },
    {
      "cell_type": "code",
      "source": [
        "biodata[\"favolit_color\"] = \"red\"\n",
        "biodata[\"status\"] = \"single\"\n",
        "print(biodata)"
      ],
      "metadata": {
        "colab": {
          "base_uri": "https://localhost:8080/"
        },
        "id": "bExjKX_-5uoK",
        "outputId": "e595c5d9-e4cd-409c-8f96-817ad853f232"
      },
      "execution_count": 131,
      "outputs": [
        {
          "output_type": "stream",
          "name": "stdout",
          "text": [
            "{'name': 'alwi', 'age': 20, 'address': 'Jl. Pemuda, Mojoroto, Kediri', 'tall': 165.5, 'weight': 67, 'education': 'Telkom univesity', 'major': 'computer engginering', 'NiM': 11031930, 'hobby': ['eat', 'traveling'], 'ambition': ['becomes  a successful person ', 'becomes a useful person'], 'favolit_color': 'red', 'status': 'single'}\n"
          ]
        }
      ]
    },
    {
      "cell_type": "code",
      "source": [
        "biodata.update({\"hobby\": ['eat','traveling','game']})\n",
        "print(biodata)"
      ],
      "metadata": {
        "colab": {
          "base_uri": "https://localhost:8080/"
        },
        "id": "9yBAP66G5u1O",
        "outputId": "a4b40de6-97de-4a9b-d8c3-9d27490e16ec"
      },
      "execution_count": 132,
      "outputs": [
        {
          "output_type": "stream",
          "name": "stdout",
          "text": [
            "{'name': 'alwi', 'age': 20, 'address': 'Jl. Pemuda, Mojoroto, Kediri', 'tall': 165.5, 'weight': 67, 'education': 'Telkom univesity', 'major': 'computer engginering', 'NiM': 11031930, 'hobby': ['eat', 'traveling', 'game'], 'ambition': ['becomes  a successful person ', 'becomes a useful person'], 'favolit_color': 'red', 'status': 'single'}\n"
          ]
        }
      ]
    },
    {
      "cell_type": "code",
      "source": [
        "biodata.pop(\"status\")"
      ],
      "metadata": {
        "colab": {
          "base_uri": "https://localhost:8080/",
          "height": 36
        },
        "id": "gABiOj806ViA",
        "outputId": "4702b186-9f6c-4e1e-fca4-c66f31cf04a3"
      },
      "execution_count": 133,
      "outputs": [
        {
          "output_type": "execute_result",
          "data": {
            "text/plain": [
              "'single'"
            ],
            "application/vnd.google.colaboratory.intrinsic+json": {
              "type": "string"
            }
          },
          "metadata": {},
          "execution_count": 133
        }
      ]
    },
    {
      "cell_type": "code",
      "source": [
        "biodata.popitem()"
      ],
      "metadata": {
        "colab": {
          "base_uri": "https://localhost:8080/"
        },
        "id": "NB6Ear-a6niX",
        "outputId": "eabe04b9-b59d-4159-a4d4-7c5a024cbe89"
      },
      "execution_count": 134,
      "outputs": [
        {
          "output_type": "execute_result",
          "data": {
            "text/plain": [
              "('favolit_color', 'red')"
            ]
          },
          "metadata": {},
          "execution_count": 134
        }
      ]
    },
    {
      "cell_type": "code",
      "source": [
        "biodata.clear()\n",
        "biodata"
      ],
      "metadata": {
        "colab": {
          "base_uri": "https://localhost:8080/"
        },
        "id": "Yyi54xRY7Hwc",
        "outputId": "88e0db69-73c5-4b27-ac02-376707931b1f"
      },
      "execution_count": 135,
      "outputs": [
        {
          "output_type": "execute_result",
          "data": {
            "text/plain": [
              "{}"
            ]
          },
          "metadata": {},
          "execution_count": 135
        }
      ]
    }
  ],
  "metadata": {
    "colab": {
      "collapsed_sections": [],
      "name": "Tugas_2_Ds_b.ipynb",
      "provenance": []
    },
    "kernelspec": {
      "display_name": "Python 3",
      "name": "python3"
    },
    "language_info": {
      "name": "python"
    }
  },
  "nbformat": 4,
  "nbformat_minor": 0
}